{
 "cells": [
  {
   "cell_type": "markdown",
   "metadata": {},
   "source": [
    "# Practical Application III: Comparing Classifiers\n",
    "\n",
    "**Overview**: In this practical application, your goal is to compare the performance of the classifiers we encountered in this section, namely K Nearest Neighbor, Logistic Regression, Decision Trees, and Support Vector Machines.  We will utilize a dataset related to marketing bank products over the telephone.  \n",
    "\n"
   ]
  },
  {
   "cell_type": "markdown",
   "metadata": {},
   "source": [
    "### Getting Started\n",
    "\n",
    "Our dataset comes from the UCI Machine Learning repository [link](https://archive.ics.uci.edu/ml/datasets/bank+marketing).  The data is from a Portugese banking institution and is a collection of the results of multiple marketing campaigns.  We will make use of the article accompanying the dataset [here](CRISP-DM-BANK.pdf) for more information on the data and features.\n",
    "\n"
   ]
  },
  {
   "cell_type": "markdown",
   "metadata": {},
   "source": [
    "### Problem 1: Understanding the Data\n",
    "\n",
    "To gain a better understanding of the data, please read the information provided in the UCI link above, and examine the **Materials and Methods** section of the paper.  How many marketing campaigns does this data represent?"
   ]
  },
  {
   "cell_type": "markdown",
   "metadata": {},
   "source": [
    "From the article accompanying the dataset:\n",
    "\n",
    ">The dataset collected is related to 17 campaigns that occurred between May 2008 and November 2010, corresponding to a total of 79354 contacts."
   ]
  },
  {
   "cell_type": "markdown",
   "metadata": {},
   "source": [
    "### Problem 2: Read in the Data\n",
    "\n",
    "Use pandas to read in the dataset `bank-additional-full.csv` and assign to a meaningful variable name."
   ]
  },
  {
   "cell_type": "code",
   "execution_count": 276,
   "metadata": {},
   "outputs": [],
   "source": [
    "import pandas as pd"
   ]
  },
  {
   "cell_type": "code",
   "execution_count": 277,
   "metadata": {},
   "outputs": [],
   "source": [
    "df = pd.read_csv('./data/bank-additional-full.csv', sep = ';')"
   ]
  },
  {
   "cell_type": "code",
   "execution_count": 278,
   "metadata": {},
   "outputs": [
    {
     "data": {
      "text/html": [
       "<div>\n",
       "<style scoped>\n",
       "    .dataframe tbody tr th:only-of-type {\n",
       "        vertical-align: middle;\n",
       "    }\n",
       "\n",
       "    .dataframe tbody tr th {\n",
       "        vertical-align: top;\n",
       "    }\n",
       "\n",
       "    .dataframe thead th {\n",
       "        text-align: right;\n",
       "    }\n",
       "</style>\n",
       "<table border=\"1\" class=\"dataframe\">\n",
       "  <thead>\n",
       "    <tr style=\"text-align: right;\">\n",
       "      <th></th>\n",
       "      <th>age</th>\n",
       "      <th>job</th>\n",
       "      <th>marital</th>\n",
       "      <th>education</th>\n",
       "      <th>default</th>\n",
       "      <th>housing</th>\n",
       "      <th>loan</th>\n",
       "      <th>contact</th>\n",
       "      <th>month</th>\n",
       "      <th>day_of_week</th>\n",
       "      <th>...</th>\n",
       "      <th>campaign</th>\n",
       "      <th>pdays</th>\n",
       "      <th>previous</th>\n",
       "      <th>poutcome</th>\n",
       "      <th>emp.var.rate</th>\n",
       "      <th>cons.price.idx</th>\n",
       "      <th>cons.conf.idx</th>\n",
       "      <th>euribor3m</th>\n",
       "      <th>nr.employed</th>\n",
       "      <th>y</th>\n",
       "    </tr>\n",
       "  </thead>\n",
       "  <tbody>\n",
       "    <tr>\n",
       "      <th>0</th>\n",
       "      <td>56</td>\n",
       "      <td>housemaid</td>\n",
       "      <td>married</td>\n",
       "      <td>basic.4y</td>\n",
       "      <td>no</td>\n",
       "      <td>no</td>\n",
       "      <td>no</td>\n",
       "      <td>telephone</td>\n",
       "      <td>may</td>\n",
       "      <td>mon</td>\n",
       "      <td>...</td>\n",
       "      <td>1</td>\n",
       "      <td>999</td>\n",
       "      <td>0</td>\n",
       "      <td>nonexistent</td>\n",
       "      <td>1.1</td>\n",
       "      <td>93.994</td>\n",
       "      <td>-36.4</td>\n",
       "      <td>4.857</td>\n",
       "      <td>5191.0</td>\n",
       "      <td>no</td>\n",
       "    </tr>\n",
       "    <tr>\n",
       "      <th>1</th>\n",
       "      <td>57</td>\n",
       "      <td>services</td>\n",
       "      <td>married</td>\n",
       "      <td>high.school</td>\n",
       "      <td>unknown</td>\n",
       "      <td>no</td>\n",
       "      <td>no</td>\n",
       "      <td>telephone</td>\n",
       "      <td>may</td>\n",
       "      <td>mon</td>\n",
       "      <td>...</td>\n",
       "      <td>1</td>\n",
       "      <td>999</td>\n",
       "      <td>0</td>\n",
       "      <td>nonexistent</td>\n",
       "      <td>1.1</td>\n",
       "      <td>93.994</td>\n",
       "      <td>-36.4</td>\n",
       "      <td>4.857</td>\n",
       "      <td>5191.0</td>\n",
       "      <td>no</td>\n",
       "    </tr>\n",
       "    <tr>\n",
       "      <th>2</th>\n",
       "      <td>37</td>\n",
       "      <td>services</td>\n",
       "      <td>married</td>\n",
       "      <td>high.school</td>\n",
       "      <td>no</td>\n",
       "      <td>yes</td>\n",
       "      <td>no</td>\n",
       "      <td>telephone</td>\n",
       "      <td>may</td>\n",
       "      <td>mon</td>\n",
       "      <td>...</td>\n",
       "      <td>1</td>\n",
       "      <td>999</td>\n",
       "      <td>0</td>\n",
       "      <td>nonexistent</td>\n",
       "      <td>1.1</td>\n",
       "      <td>93.994</td>\n",
       "      <td>-36.4</td>\n",
       "      <td>4.857</td>\n",
       "      <td>5191.0</td>\n",
       "      <td>no</td>\n",
       "    </tr>\n",
       "    <tr>\n",
       "      <th>3</th>\n",
       "      <td>40</td>\n",
       "      <td>admin.</td>\n",
       "      <td>married</td>\n",
       "      <td>basic.6y</td>\n",
       "      <td>no</td>\n",
       "      <td>no</td>\n",
       "      <td>no</td>\n",
       "      <td>telephone</td>\n",
       "      <td>may</td>\n",
       "      <td>mon</td>\n",
       "      <td>...</td>\n",
       "      <td>1</td>\n",
       "      <td>999</td>\n",
       "      <td>0</td>\n",
       "      <td>nonexistent</td>\n",
       "      <td>1.1</td>\n",
       "      <td>93.994</td>\n",
       "      <td>-36.4</td>\n",
       "      <td>4.857</td>\n",
       "      <td>5191.0</td>\n",
       "      <td>no</td>\n",
       "    </tr>\n",
       "    <tr>\n",
       "      <th>4</th>\n",
       "      <td>56</td>\n",
       "      <td>services</td>\n",
       "      <td>married</td>\n",
       "      <td>high.school</td>\n",
       "      <td>no</td>\n",
       "      <td>no</td>\n",
       "      <td>yes</td>\n",
       "      <td>telephone</td>\n",
       "      <td>may</td>\n",
       "      <td>mon</td>\n",
       "      <td>...</td>\n",
       "      <td>1</td>\n",
       "      <td>999</td>\n",
       "      <td>0</td>\n",
       "      <td>nonexistent</td>\n",
       "      <td>1.1</td>\n",
       "      <td>93.994</td>\n",
       "      <td>-36.4</td>\n",
       "      <td>4.857</td>\n",
       "      <td>5191.0</td>\n",
       "      <td>no</td>\n",
       "    </tr>\n",
       "  </tbody>\n",
       "</table>\n",
       "<p>5 rows × 21 columns</p>\n",
       "</div>"
      ],
      "text/plain": [
       "   age        job  marital    education  default housing loan    contact  \\\n",
       "0   56  housemaid  married     basic.4y       no      no   no  telephone   \n",
       "1   57   services  married  high.school  unknown      no   no  telephone   \n",
       "2   37   services  married  high.school       no     yes   no  telephone   \n",
       "3   40     admin.  married     basic.6y       no      no   no  telephone   \n",
       "4   56   services  married  high.school       no      no  yes  telephone   \n",
       "\n",
       "  month day_of_week  ...  campaign  pdays  previous     poutcome emp.var.rate  \\\n",
       "0   may         mon  ...         1    999         0  nonexistent          1.1   \n",
       "1   may         mon  ...         1    999         0  nonexistent          1.1   \n",
       "2   may         mon  ...         1    999         0  nonexistent          1.1   \n",
       "3   may         mon  ...         1    999         0  nonexistent          1.1   \n",
       "4   may         mon  ...         1    999         0  nonexistent          1.1   \n",
       "\n",
       "   cons.price.idx  cons.conf.idx  euribor3m  nr.employed   y  \n",
       "0          93.994          -36.4      4.857       5191.0  no  \n",
       "1          93.994          -36.4      4.857       5191.0  no  \n",
       "2          93.994          -36.4      4.857       5191.0  no  \n",
       "3          93.994          -36.4      4.857       5191.0  no  \n",
       "4          93.994          -36.4      4.857       5191.0  no  \n",
       "\n",
       "[5 rows x 21 columns]"
      ]
     },
     "execution_count": 278,
     "metadata": {},
     "output_type": "execute_result"
    }
   ],
   "source": [
    "df.head()"
   ]
  },
  {
   "cell_type": "markdown",
   "metadata": {},
   "source": [
    "### Problem 3: Understanding the Features\n",
    "\n",
    "\n",
    "Examine the data description below, and determine if any of the features are missing values or need to be coerced to a different data type.\n",
    "\n",
    "\n",
    "```\n",
    "Input variables:\n",
    "# bank client data:\n",
    "1 - age (numeric)\n",
    "2 - job : type of job (categorical: 'admin.','blue-collar','entrepreneur','housemaid','management','retired','self-employed','services','student','technician','unemployed','unknown')\n",
    "3 - marital : marital status (categorical: 'divorced','married','single','unknown'; note: 'divorced' means divorced or widowed)\n",
    "4 - education (categorical: 'basic.4y','basic.6y','basic.9y','high.school','illiterate','professional.course','university.degree','unknown')\n",
    "5 - default: has credit in default? (categorical: 'no','yes','unknown')\n",
    "6 - housing: has housing loan? (categorical: 'no','yes','unknown')\n",
    "7 - loan: has personal loan? (categorical: 'no','yes','unknown')\n",
    "# related with the last contact of the current campaign:\n",
    "8 - contact: contact communication type (categorical: 'cellular','telephone')\n",
    "9 - month: last contact month of year (categorical: 'jan', 'feb', 'mar', ..., 'nov', 'dec')\n",
    "10 - day_of_week: last contact day of the week (categorical: 'mon','tue','wed','thu','fri')\n",
    "11 - duration: last contact duration, in seconds (numeric). Important note: this attribute highly affects the output target (e.g., if duration=0 then y='no'). Yet, the duration is not known before a call is performed. Also, after the end of the call y is obviously known. Thus, this input should only be included for benchmark purposes and should be discarded if the intention is to have a realistic predictive model.\n",
    "# other attributes:\n",
    "12 - campaign: number of contacts performed during this campaign and for this client (numeric, includes last contact)\n",
    "13 - pdays: number of days that passed by after the client was last contacted from a previous campaign (numeric; 999 means client was not previously contacted)\n",
    "14 - previous: number of contacts performed before this campaign and for this client (numeric)\n",
    "15 - poutcome: outcome of the previous marketing campaign (categorical: 'failure','nonexistent','success')\n",
    "# social and economic context attributes\n",
    "16 - emp.var.rate: employment variation rate - quarterly indicator (numeric)\n",
    "17 - cons.price.idx: consumer price index - monthly indicator (numeric)\n",
    "18 - cons.conf.idx: consumer confidence index - monthly indicator (numeric)\n",
    "19 - euribor3m: euribor 3 month rate - daily indicator (numeric)\n",
    "20 - nr.employed: number of employees - quarterly indicator (numeric)\n",
    "\n",
    "Output variable (desired target):\n",
    "21 - y - has the client subscribed a term deposit? (binary: 'yes','no')\n",
    "```\n",
    "\n"
   ]
  },
  {
   "cell_type": "code",
   "execution_count": 280,
   "metadata": {},
   "outputs": [
    {
     "name": "stdout",
     "output_type": "stream",
     "text": [
      "<class 'pandas.core.frame.DataFrame'>\n",
      "RangeIndex: 41188 entries, 0 to 41187\n",
      "Data columns (total 21 columns):\n",
      " #   Column          Non-Null Count  Dtype  \n",
      "---  ------          --------------  -----  \n",
      " 0   age             41188 non-null  int64  \n",
      " 1   job             41188 non-null  object \n",
      " 2   marital         41188 non-null  object \n",
      " 3   education       41188 non-null  object \n",
      " 4   default         41188 non-null  object \n",
      " 5   housing         41188 non-null  object \n",
      " 6   loan            41188 non-null  object \n",
      " 7   contact         41188 non-null  object \n",
      " 8   month           41188 non-null  object \n",
      " 9   day_of_week     41188 non-null  object \n",
      " 10  duration        41188 non-null  int64  \n",
      " 11  campaign        41188 non-null  int64  \n",
      " 12  pdays           41188 non-null  int64  \n",
      " 13  previous        41188 non-null  int64  \n",
      " 14  poutcome        41188 non-null  object \n",
      " 15  emp.var.rate    41188 non-null  float64\n",
      " 16  cons.price.idx  41188 non-null  float64\n",
      " 17  cons.conf.idx   41188 non-null  float64\n",
      " 18  euribor3m       41188 non-null  float64\n",
      " 19  nr.employed     41188 non-null  float64\n",
      " 20  y               41188 non-null  object \n",
      "dtypes: float64(5), int64(5), object(11)\n",
      "memory usage: 6.6+ MB\n"
     ]
    }
   ],
   "source": [
    "df.info()"
   ]
  },
  {
   "cell_type": "code",
   "execution_count": 281,
   "metadata": {},
   "outputs": [
    {
     "data": {
      "text/plain": [
       "age               0\n",
       "job               0\n",
       "marital           0\n",
       "education         0\n",
       "default           0\n",
       "housing           0\n",
       "loan              0\n",
       "contact           0\n",
       "month             0\n",
       "day_of_week       0\n",
       "duration          0\n",
       "campaign          0\n",
       "pdays             0\n",
       "previous          0\n",
       "poutcome          0\n",
       "emp.var.rate      0\n",
       "cons.price.idx    0\n",
       "cons.conf.idx     0\n",
       "euribor3m         0\n",
       "nr.employed       0\n",
       "y                 0\n",
       "dtype: int64"
      ]
     },
     "execution_count": 281,
     "metadata": {},
     "output_type": "execute_result"
    }
   ],
   "source": [
    "df.isna().sum()"
   ]
  },
  {
   "cell_type": "code",
   "execution_count": 282,
   "metadata": {},
   "outputs": [
    {
     "data": {
      "text/plain": [
       "pdays\n",
       "999    96.321744\n",
       "3       1.065844\n",
       "6       1.000291\n",
       "4       0.286491\n",
       "9       0.155385\n",
       "2       0.148101\n",
       "7       0.145673\n",
       "12      0.140818\n",
       "10      0.126250\n",
       "5       0.111683\n",
       "13      0.087404\n",
       "11      0.067981\n",
       "1       0.063125\n",
       "15      0.058269\n",
       "14      0.048558\n",
       "8       0.043702\n",
       "0       0.036418\n",
       "16      0.026707\n",
       "17      0.019423\n",
       "18      0.016995\n",
       "22      0.007284\n",
       "19      0.007284\n",
       "21      0.004856\n",
       "25      0.002428\n",
       "26      0.002428\n",
       "27      0.002428\n",
       "20      0.002428\n",
       "Name: proportion, dtype: float64"
      ]
     },
     "execution_count": 282,
     "metadata": {},
     "output_type": "execute_result"
    }
   ],
   "source": [
    "df[\"pdays\"].value_counts(normalize=True) * 100"
   ]
  },
  {
   "cell_type": "markdown",
   "metadata": {},
   "source": [
    "#### Observations\n",
    "* No missing data in any columns\n",
    "* `duration` feature will be dropped as we are building a predictive model\n",
    "* We'll use Target encoding for categorical features and apply standard scaling for numeric features"
   ]
  },
  {
   "cell_type": "markdown",
   "metadata": {},
   "source": [
    "### Problem 4: Understanding the Task\n",
    "\n",
    "After examining the description and data, your goal now is to clearly state the *Business Objective* of the task.  State the objective below."
   ]
  },
  {
   "cell_type": "markdown",
   "metadata": {},
   "source": [
    "The first-order business goals are to:\n",
    "* offer attractive long-term deposit applications with good interest rates, in particular by using directed marketing campaigns\n",
    "* deliver a reduction in costs and time\n",
    "\n",
    "The first-order business goals can be achieved by:\n",
    "* increased efficiency through fewer contacts with the customers while ensuring a certain success (clients subscribing the deposit) rate\n",
    "\n",
    "The accompanying article summarizes the business goal well, as:\n",
    "> to increase efficiency of directed campaigns for long-term deposit subscriptions by reducing the number of contacts to do"
   ]
  },
  {
   "cell_type": "markdown",
   "metadata": {},
   "source": [
    "### Problem 5: Engineering Features\n",
    "\n",
    "Now that you understand your business objective, we will build a basic model to get started.  Before we can do this, we must work to encode the data.  Using just the bank information features, prepare the features and target column for modeling with appropriate encoding and transformations."
   ]
  },
  {
   "cell_type": "code",
   "execution_count": 287,
   "metadata": {},
   "outputs": [],
   "source": [
    "# Drop columns `duration` and `y`\n",
    "X = df.drop(columns=[\"duration\", \"y\"])"
   ]
  },
  {
   "cell_type": "code",
   "execution_count": 288,
   "metadata": {},
   "outputs": [],
   "source": [
    "# Transform pdays into a binary value, setting all values of 999 to True and all else to False\n",
    "X[\"pdays\"] = X[\"pdays\"] == 999"
   ]
  },
  {
   "cell_type": "code",
   "execution_count": 289,
   "metadata": {},
   "outputs": [],
   "source": [
    "# Target column\n",
    "y = df[\"y\"] == \"yes\""
   ]
  },
  {
   "cell_type": "markdown",
   "metadata": {},
   "source": [
    "Note: Encoding of data is in the pipeline defined in `make_pipeline` below."
   ]
  },
  {
   "cell_type": "markdown",
   "metadata": {},
   "source": [
    "### Problem 6: Train/Test Split\n",
    "\n",
    "With your data prepared, split it into a train and test set."
   ]
  },
  {
   "cell_type": "code",
   "execution_count": 292,
   "metadata": {},
   "outputs": [],
   "source": [
    "from sklearn.model_selection import train_test_split\n",
    "# set `stratify=y` to ensure distribution of classes in train and test sets is similar to distribution in original dataset\n",
    "# this is important given the imbalance of classes in the original dataset\n",
    "X_train, X_test, y_train, y_test = train_test_split(X, y, random_state=42, stratify=y)"
   ]
  },
  {
   "cell_type": "markdown",
   "metadata": {},
   "source": [
    "### Problem 7: A Baseline Model\n",
    "\n",
    "Before we build our first model, we want to establish a baseline.  What is the baseline performance that our classifier should aim to beat?"
   ]
  },
  {
   "cell_type": "markdown",
   "metadata": {},
   "source": [
    "The baseline classifier is a constant model that always returns the majority class\n",
    "* the accuracy of this model is the rate of occurance of the majority class"
   ]
  },
  {
   "cell_type": "code",
   "execution_count": 295,
   "metadata": {},
   "outputs": [
    {
     "data": {
      "text/plain": [
       "y\n",
       "False    0.887346\n",
       "True     0.112654\n",
       "Name: proportion, dtype: float64"
      ]
     },
     "execution_count": 295,
     "metadata": {},
     "output_type": "execute_result"
    }
   ],
   "source": [
    "y_train.value_counts(normalize=True)"
   ]
  },
  {
   "cell_type": "code",
   "execution_count": 296,
   "metadata": {},
   "outputs": [
    {
     "data": {
      "text/plain": [
       "0.8873458288821987"
      ]
     },
     "execution_count": 296,
     "metadata": {},
     "output_type": "execute_result"
    }
   ],
   "source": [
    "import numpy as np\n",
    "baseline_performance = np.max(y_train.value_counts(normalize=True))\n",
    "baseline_performance"
   ]
  },
  {
   "cell_type": "markdown",
   "metadata": {},
   "source": [
    "### Problem 8: A Simple Model\n",
    "\n",
    "Use Logistic Regression to build a basic model on your data.  "
   ]
  },
  {
   "cell_type": "code",
   "execution_count": 298,
   "metadata": {},
   "outputs": [],
   "source": [
    "from sklearn.preprocessing import StandardScaler, TargetEncoder\n",
    "from sklearn.compose import make_column_transformer, make_column_selector\n",
    "\n",
    "# Apply TargetEncoding to Categorical columns and StanardScaler to remaining\n",
    "xformer = make_column_transformer(\n",
    "    (\n",
    "        TargetEncoder(smooth=\"auto\", random_state=42, target_type=\"binary\"),\n",
    "        make_column_selector(dtype_include=object),\n",
    "    ),\n",
    "    remainder=StandardScaler(),\n",
    "    verbose_feature_names_out=False,\n",
    ")"
   ]
  },
  {
   "cell_type": "code",
   "execution_count": 299,
   "metadata": {},
   "outputs": [],
   "source": [
    "def make_pipeline(classifier_name: str = \"\"):\n",
    "    \"\"\"\n",
    "    Returns an unfitted pipeline consisting of the following named steps\n",
    "    1. xformer: a column transformer\n",
    "        - performs OHE for object features\n",
    "        - and standard scaler for all others\n",
    "    2. classifier: a classifier using the named classifier\n",
    "    \"\"\"\n",
    "    kwargs = {} if classifier_name == \"KNeighborsClassifier\" else {\"random_state\": 42}\n",
    "    classifier = eval(classifier_name)(**kwargs)\n",
    "    return Pipeline(\n",
    "        [\n",
    "            (\"xformer\", xformer),\n",
    "            (\"classifier\", classifier),\n",
    "        ]\n",
    "    )"
   ]
  },
  {
   "cell_type": "code",
   "execution_count": 300,
   "metadata": {},
   "outputs": [],
   "source": [
    "from sklearn.linear_model import LogisticRegression, Perceptron\n",
    "from sklearn.pipeline import Pipeline\n",
    "\n",
    "import warnings\n",
    "warnings.filterwarnings(\"ignore\")\n",
    "\n",
    "lgr = make_pipeline(classifier_name=\"LogisticRegression\").fit(X_train, y_train)"
   ]
  },
  {
   "cell_type": "markdown",
   "metadata": {},
   "source": [
    "### Problem 9: Score the Model\n",
    "\n",
    "What is the accuracy of your model?"
   ]
  },
  {
   "cell_type": "code",
   "execution_count": 302,
   "metadata": {},
   "outputs": [],
   "source": [
    "from sklearn.metrics import (\n",
    "    accuracy_score,\n",
    "    balanced_accuracy_score,\n",
    "    recall_score,\n",
    "    precision_score,\n",
    "    f1_score,\n",
    "    roc_auc_score,\n",
    ")\n",
    "\n",
    "def make_scores_dict(estimator, prefix: str, X: pd.DataFrame, y: pd.Series):\n",
    "    metrics_list = [\n",
    "        \"Accuracy\",\n",
    "        \"Balanced Accuracy\",\n",
    "        \"Precision\",\n",
    "        \"Recall\",\n",
    "        \"f1\",\n",
    "        \"ROC_AUC\",\n",
    "    ]\n",
    "    y_pred = estimator.predict(X)\n",
    "    return {\n",
    "        \" \".join([prefix, metric]): round(\n",
    "            eval(metric.lower().replace(\" \", \"_\") + \"_score\")(y, y_pred) * 100.0,\n",
    "            2,\n",
    "        )\n",
    "        for metric in metrics_list\n",
    "    }"
   ]
  },
  {
   "cell_type": "code",
   "execution_count": 303,
   "metadata": {},
   "outputs": [],
   "source": [
    "from time import time\n",
    "def fit_and_time(classifier_name: str, features: list = X_train.columns):\n",
    "    tic = time()\n",
    "    classifier_pipeline = make_pipeline(classifier_name).fit(X_train[features], y_train)\n",
    "\n",
    "    train_scores = make_scores_dict(\n",
    "        classifier_pipeline, \"Train\", X_train[features], y_train\n",
    "    )\n",
    "\n",
    "    test_scores = make_scores_dict(\n",
    "        classifier_pipeline, \"Test\", X_test[features], y_test\n",
    "    )\n",
    "\n",
    "    return (\n",
    "        {\n",
    "            \"Model\": classifier_name,\n",
    "            \"Train and Score Time\": time() - tic,\n",
    "        }\n",
    "        | train_scores\n",
    "        | test_scores\n",
    "    )"
   ]
  },
  {
   "cell_type": "code",
   "execution_count": 304,
   "metadata": {},
   "outputs": [
    {
     "data": {
      "text/html": [
       "<div>\n",
       "<style scoped>\n",
       "    .dataframe tbody tr th:only-of-type {\n",
       "        vertical-align: middle;\n",
       "    }\n",
       "\n",
       "    .dataframe tbody tr th {\n",
       "        vertical-align: top;\n",
       "    }\n",
       "\n",
       "    .dataframe thead th {\n",
       "        text-align: right;\n",
       "    }\n",
       "</style>\n",
       "<table border=\"1\" class=\"dataframe\">\n",
       "  <thead>\n",
       "    <tr style=\"text-align: right;\">\n",
       "      <th></th>\n",
       "      <th>Model</th>\n",
       "      <th>Train and Score Time</th>\n",
       "      <th>Train Accuracy</th>\n",
       "      <th>Train Balanced Accuracy</th>\n",
       "      <th>Train Precision</th>\n",
       "      <th>Train Recall</th>\n",
       "      <th>Train f1</th>\n",
       "      <th>Train ROC_AUC</th>\n",
       "      <th>Test Accuracy</th>\n",
       "      <th>Test Balanced Accuracy</th>\n",
       "      <th>Test Precision</th>\n",
       "      <th>Test Recall</th>\n",
       "      <th>Test f1</th>\n",
       "      <th>Test ROC_AUC</th>\n",
       "    </tr>\n",
       "  </thead>\n",
       "  <tbody>\n",
       "    <tr>\n",
       "      <th>0</th>\n",
       "      <td>LogisticRegression</td>\n",
       "      <td>0.62882</td>\n",
       "      <td>89.82</td>\n",
       "      <td>59.82</td>\n",
       "      <td>64.78</td>\n",
       "      <td>21.09</td>\n",
       "      <td>31.82</td>\n",
       "      <td>59.82</td>\n",
       "      <td>89.93</td>\n",
       "      <td>59.37</td>\n",
       "      <td>68.14</td>\n",
       "      <td>19.91</td>\n",
       "      <td>30.82</td>\n",
       "      <td>59.37</td>\n",
       "    </tr>\n",
       "  </tbody>\n",
       "</table>\n",
       "</div>"
      ],
      "text/plain": [
       "                Model  Train and Score Time  Train Accuracy  \\\n",
       "0  LogisticRegression               0.62882           89.82   \n",
       "\n",
       "   Train Balanced Accuracy  Train Precision  Train Recall  Train f1  \\\n",
       "0                    59.82            64.78         21.09     31.82   \n",
       "\n",
       "   Train ROC_AUC  Test Accuracy  Test Balanced Accuracy  Test Precision  \\\n",
       "0          59.82          89.93                   59.37           68.14   \n",
       "\n",
       "   Test Recall  Test f1  Test ROC_AUC  \n",
       "0        19.91    30.82         59.37  "
      ]
     },
     "execution_count": 304,
     "metadata": {},
     "output_type": "execute_result"
    }
   ],
   "source": [
    "pd.DataFrame([fit_and_time(classifier_name=\"LogisticRegression\")])"
   ]
  },
  {
   "cell_type": "markdown",
   "metadata": {},
   "source": [
    "#### Observations\n",
    "\n",
    "* The testing accuracy of the Linear Regression Model is higher than the base model (89.93 vs 88.73). \n",
    "* However, ROC_AUC score is low which is better measure of accuracy with imbalanced data."
   ]
  },
  {
   "cell_type": "markdown",
   "metadata": {},
   "source": [
    "### Problem 10: Model Comparisons\n",
    "\n",
    "Now, we aim to compare the performance of the Logistic Regression model to our KNN algorithm, Decision Tree, and SVM models.  Using the default settings for each of the models, fit and score each.  Also, be sure to compare the fit time of each of the models.  Present your findings in a `DataFrame` similar to that below:\n",
    "\n",
    "| Model | Train Time | Train Accuracy | Test Accuracy |\n",
    "| ----- | ---------- | -------------  | -----------   |\n",
    "|     |    |.     |.     |"
   ]
  },
  {
   "cell_type": "code",
   "execution_count": 307,
   "metadata": {},
   "outputs": [],
   "source": [
    "from sklearn.neighbors import KNeighborsClassifier\n",
    "from sklearn.tree import DecisionTreeClassifier\n",
    "from sklearn.svm import SVC\n",
    "\n",
    "classifier_names = [\n",
    "    \"KNeighborsClassifier\",\n",
    "    \"DecisionTreeClassifier\",\n",
    "    \"LogisticRegression\",\n",
    "    \"SVC\",\n",
    "]"
   ]
  },
  {
   "cell_type": "code",
   "execution_count": 308,
   "metadata": {},
   "outputs": [
    {
     "data": {
      "text/html": [
       "<div>\n",
       "<style scoped>\n",
       "    .dataframe tbody tr th:only-of-type {\n",
       "        vertical-align: middle;\n",
       "    }\n",
       "\n",
       "    .dataframe tbody tr th {\n",
       "        vertical-align: top;\n",
       "    }\n",
       "\n",
       "    .dataframe thead th {\n",
       "        text-align: right;\n",
       "    }\n",
       "</style>\n",
       "<table border=\"1\" class=\"dataframe\">\n",
       "  <thead>\n",
       "    <tr style=\"text-align: right;\">\n",
       "      <th></th>\n",
       "      <th>Model</th>\n",
       "      <th>Train and Score Time</th>\n",
       "      <th>Train Accuracy</th>\n",
       "      <th>Train Balanced Accuracy</th>\n",
       "      <th>Train Precision</th>\n",
       "      <th>Train Recall</th>\n",
       "      <th>Train f1</th>\n",
       "      <th>Train ROC_AUC</th>\n",
       "      <th>Test Accuracy</th>\n",
       "      <th>Test Balanced Accuracy</th>\n",
       "      <th>Test Precision</th>\n",
       "      <th>Test Recall</th>\n",
       "      <th>Test f1</th>\n",
       "      <th>Test ROC_AUC</th>\n",
       "    </tr>\n",
       "  </thead>\n",
       "  <tbody>\n",
       "    <tr>\n",
       "      <th>0</th>\n",
       "      <td>KNeighborsClassifier</td>\n",
       "      <td>2.947325</td>\n",
       "      <td>91.28</td>\n",
       "      <td>68.15</td>\n",
       "      <td>70.87</td>\n",
       "      <td>38.30</td>\n",
       "      <td>49.73</td>\n",
       "      <td>68.15</td>\n",
       "      <td>89.16</td>\n",
       "      <td>62.96</td>\n",
       "      <td>53.48</td>\n",
       "      <td>29.14</td>\n",
       "      <td>37.72</td>\n",
       "      <td>62.96</td>\n",
       "    </tr>\n",
       "    <tr>\n",
       "      <th>1</th>\n",
       "      <td>DecisionTreeClassifier</td>\n",
       "      <td>0.661254</td>\n",
       "      <td>88.22</td>\n",
       "      <td>72.87</td>\n",
       "      <td>47.94</td>\n",
       "      <td>53.05</td>\n",
       "      <td>50.36</td>\n",
       "      <td>72.87</td>\n",
       "      <td>83.73</td>\n",
       "      <td>62.95</td>\n",
       "      <td>30.97</td>\n",
       "      <td>36.12</td>\n",
       "      <td>33.35</td>\n",
       "      <td>62.95</td>\n",
       "    </tr>\n",
       "    <tr>\n",
       "      <th>2</th>\n",
       "      <td>LogisticRegression</td>\n",
       "      <td>0.621656</td>\n",
       "      <td>89.82</td>\n",
       "      <td>59.82</td>\n",
       "      <td>64.78</td>\n",
       "      <td>21.09</td>\n",
       "      <td>31.82</td>\n",
       "      <td>59.82</td>\n",
       "      <td>89.93</td>\n",
       "      <td>59.37</td>\n",
       "      <td>68.14</td>\n",
       "      <td>19.91</td>\n",
       "      <td>30.82</td>\n",
       "      <td>59.37</td>\n",
       "    </tr>\n",
       "    <tr>\n",
       "      <th>3</th>\n",
       "      <td>SVC</td>\n",
       "      <td>82.673774</td>\n",
       "      <td>89.97</td>\n",
       "      <td>59.35</td>\n",
       "      <td>69.21</td>\n",
       "      <td>19.83</td>\n",
       "      <td>30.82</td>\n",
       "      <td>59.35</td>\n",
       "      <td>90.00</td>\n",
       "      <td>58.65</td>\n",
       "      <td>72.26</td>\n",
       "      <td>18.19</td>\n",
       "      <td>29.06</td>\n",
       "      <td>58.65</td>\n",
       "    </tr>\n",
       "  </tbody>\n",
       "</table>\n",
       "</div>"
      ],
      "text/plain": [
       "                    Model  Train and Score Time  Train Accuracy  \\\n",
       "0    KNeighborsClassifier              2.947325           91.28   \n",
       "1  DecisionTreeClassifier              0.661254           88.22   \n",
       "2      LogisticRegression              0.621656           89.82   \n",
       "3                     SVC             82.673774           89.97   \n",
       "\n",
       "   Train Balanced Accuracy  Train Precision  Train Recall  Train f1  \\\n",
       "0                    68.15            70.87         38.30     49.73   \n",
       "1                    72.87            47.94         53.05     50.36   \n",
       "2                    59.82            64.78         21.09     31.82   \n",
       "3                    59.35            69.21         19.83     30.82   \n",
       "\n",
       "   Train ROC_AUC  Test Accuracy  Test Balanced Accuracy  Test Precision  \\\n",
       "0          68.15          89.16                   62.96           53.48   \n",
       "1          72.87          83.73                   62.95           30.97   \n",
       "2          59.82          89.93                   59.37           68.14   \n",
       "3          59.35          90.00                   58.65           72.26   \n",
       "\n",
       "   Test Recall  Test f1  Test ROC_AUC  \n",
       "0        29.14    37.72         62.96  \n",
       "1        36.12    33.35         62.95  \n",
       "2        19.91    30.82         59.37  \n",
       "3        18.19    29.06         58.65  "
      ]
     },
     "execution_count": 308,
     "metadata": {},
     "output_type": "execute_result"
    }
   ],
   "source": [
    "results_df = pd.DataFrame(\n",
    "    [fit_and_time(classifier_name) for classifier_name in classifier_names]\n",
    ")\n",
    "\n",
    "results_df"
   ]
  },
  {
   "cell_type": "markdown",
   "metadata": {},
   "source": [
    "| Model | Train Time | Train Accuracy | Test Accuracy |\n",
    "| ----- | ---------- | -------------  | -----------   |\n",
    "| KNeighborsClassifier |  3.053425  |  68.15   |  62.96   |\n",
    "| DecisionTreeClassifier |  0.674753  |  72.87   |  62.95   |\n",
    "| LogisticRegression |  0.609272  |  59.82   |  59.37   |\n",
    "| SVC |  79.613209  |  59.35   |  58.65   |"
   ]
  },
  {
   "cell_type": "markdown",
   "metadata": {},
   "source": [
    "#### Observations:\n",
    "* LogisticRegression and SVC are the fastest and slowest models respectively.\n",
    "* Test Accuracy is nearly similar with KNeighborsClassifier having the best score."
   ]
  },
  {
   "cell_type": "markdown",
   "metadata": {},
   "source": [
    "### Problem 11: Improving the Model\n",
    "\n",
    "Now that we have some basic models on the board, we want to try to improve these.  Below, we list a few things to explore in this pursuit.\n",
    "\n",
    "- More feature engineering and exploration.  For example, should we keep the gender feature?  Why or why not?\n",
    "- Hyperparameter tuning and grid search.  All of our models have additional hyperparameters to tune and explore.  For example the number of neighbors in KNN or the maximum depth of a Decision Tree.  \n",
    "- Adjust your performance metric"
   ]
  },
  {
   "cell_type": "markdown",
   "metadata": {},
   "source": [
    "#### Feature Importance with Permutation Importance\n",
    "\n",
    "We will be using the logistic regression as the foundational model to feature importance.\n",
    "\n",
    "This will help us determine what feature are more imporant to predict the output.\n"
   ]
  },
  {
   "cell_type": "code",
   "execution_count": 313,
   "metadata": {},
   "outputs": [],
   "source": [
    "estimator = lgr"
   ]
  },
  {
   "cell_type": "code",
   "execution_count": 314,
   "metadata": {},
   "outputs": [
    {
     "data": {
      "text/html": [
       "<div>\n",
       "<style scoped>\n",
       "    .dataframe tbody tr th:only-of-type {\n",
       "        vertical-align: middle;\n",
       "    }\n",
       "\n",
       "    .dataframe tbody tr th {\n",
       "        vertical-align: top;\n",
       "    }\n",
       "\n",
       "    .dataframe thead th {\n",
       "        text-align: right;\n",
       "    }\n",
       "</style>\n",
       "<table border=\"1\" class=\"dataframe\">\n",
       "  <thead>\n",
       "    <tr style=\"text-align: right;\">\n",
       "      <th></th>\n",
       "      <th>Feature</th>\n",
       "      <th>Importance</th>\n",
       "      <th>Standard Deviation</th>\n",
       "    </tr>\n",
       "  </thead>\n",
       "  <tbody>\n",
       "    <tr>\n",
       "      <th>1</th>\n",
       "      <td>job</td>\n",
       "      <td>-0.000379</td>\n",
       "      <td>0.000477</td>\n",
       "    </tr>\n",
       "    <tr>\n",
       "      <th>0</th>\n",
       "      <td>age</td>\n",
       "      <td>-0.000350</td>\n",
       "      <td>0.000139</td>\n",
       "    </tr>\n",
       "    <tr>\n",
       "      <th>2</th>\n",
       "      <td>marital</td>\n",
       "      <td>-0.000330</td>\n",
       "      <td>0.000282</td>\n",
       "    </tr>\n",
       "    <tr>\n",
       "      <th>3</th>\n",
       "      <td>education</td>\n",
       "      <td>-0.000320</td>\n",
       "      <td>0.000304</td>\n",
       "    </tr>\n",
       "    <tr>\n",
       "      <th>4</th>\n",
       "      <td>default</td>\n",
       "      <td>-0.000146</td>\n",
       "      <td>0.000302</td>\n",
       "    </tr>\n",
       "    <tr>\n",
       "      <th>13</th>\n",
       "      <td>poutcome</td>\n",
       "      <td>-0.000117</td>\n",
       "      <td>0.000085</td>\n",
       "    </tr>\n",
       "    <tr>\n",
       "      <th>10</th>\n",
       "      <td>campaign</td>\n",
       "      <td>-0.000097</td>\n",
       "      <td>0.000464</td>\n",
       "    </tr>\n",
       "    <tr>\n",
       "      <th>9</th>\n",
       "      <td>day_of_week</td>\n",
       "      <td>-0.000068</td>\n",
       "      <td>0.000045</td>\n",
       "    </tr>\n",
       "    <tr>\n",
       "      <th>8</th>\n",
       "      <td>month</td>\n",
       "      <td>-0.000068</td>\n",
       "      <td>0.000480</td>\n",
       "    </tr>\n",
       "    <tr>\n",
       "      <th>6</th>\n",
       "      <td>loan</td>\n",
       "      <td>0.000000</td>\n",
       "      <td>0.000000</td>\n",
       "    </tr>\n",
       "    <tr>\n",
       "      <th>5</th>\n",
       "      <td>housing</td>\n",
       "      <td>0.000000</td>\n",
       "      <td>0.000000</td>\n",
       "    </tr>\n",
       "    <tr>\n",
       "      <th>12</th>\n",
       "      <td>previous</td>\n",
       "      <td>0.000117</td>\n",
       "      <td>0.000300</td>\n",
       "    </tr>\n",
       "    <tr>\n",
       "      <th>16</th>\n",
       "      <td>cons.conf.idx</td>\n",
       "      <td>0.000291</td>\n",
       "      <td>0.000647</td>\n",
       "    </tr>\n",
       "    <tr>\n",
       "      <th>7</th>\n",
       "      <td>contact</td>\n",
       "      <td>0.002059</td>\n",
       "      <td>0.000523</td>\n",
       "    </tr>\n",
       "    <tr>\n",
       "      <th>17</th>\n",
       "      <td>euribor3m</td>\n",
       "      <td>0.002146</td>\n",
       "      <td>0.000629</td>\n",
       "    </tr>\n",
       "    <tr>\n",
       "      <th>18</th>\n",
       "      <td>nr.employed</td>\n",
       "      <td>0.003865</td>\n",
       "      <td>0.000785</td>\n",
       "    </tr>\n",
       "    <tr>\n",
       "      <th>11</th>\n",
       "      <td>pdays</td>\n",
       "      <td>0.012955</td>\n",
       "      <td>0.000939</td>\n",
       "    </tr>\n",
       "    <tr>\n",
       "      <th>15</th>\n",
       "      <td>cons.price.idx</td>\n",
       "      <td>0.018714</td>\n",
       "      <td>0.001797</td>\n",
       "    </tr>\n",
       "    <tr>\n",
       "      <th>14</th>\n",
       "      <td>emp.var.rate</td>\n",
       "      <td>0.021958</td>\n",
       "      <td>0.000970</td>\n",
       "    </tr>\n",
       "  </tbody>\n",
       "</table>\n",
       "</div>"
      ],
      "text/plain": [
       "           Feature  Importance  Standard Deviation\n",
       "1              job   -0.000379            0.000477\n",
       "0              age   -0.000350            0.000139\n",
       "2          marital   -0.000330            0.000282\n",
       "3        education   -0.000320            0.000304\n",
       "4          default   -0.000146            0.000302\n",
       "13        poutcome   -0.000117            0.000085\n",
       "10        campaign   -0.000097            0.000464\n",
       "9      day_of_week   -0.000068            0.000045\n",
       "8            month   -0.000068            0.000480\n",
       "6             loan    0.000000            0.000000\n",
       "5          housing    0.000000            0.000000\n",
       "12        previous    0.000117            0.000300\n",
       "16   cons.conf.idx    0.000291            0.000647\n",
       "7          contact    0.002059            0.000523\n",
       "17       euribor3m    0.002146            0.000629\n",
       "18     nr.employed    0.003865            0.000785\n",
       "11           pdays    0.012955            0.000939\n",
       "15  cons.price.idx    0.018714            0.001797\n",
       "14    emp.var.rate    0.021958            0.000970"
      ]
     },
     "execution_count": 314,
     "metadata": {},
     "output_type": "execute_result"
    }
   ],
   "source": [
    "from sklearn.inspection import permutation_importance\n",
    "\n",
    "result = permutation_importance(\n",
    "    estimator, X_test, y_test, n_repeats=10, random_state=42\n",
    ")\n",
    "feature_importance = pd.DataFrame(\n",
    "    {\n",
    "        \"Feature\": X.columns,\n",
    "        \"Importance\": result.importances_mean,\n",
    "        \"Standard Deviation\": result.importances_std,\n",
    "    }\n",
    ").sort_values(\"Importance\", ascending=True)\n",
    "feature_importance"
   ]
  },
  {
   "cell_type": "code",
   "execution_count": 315,
   "metadata": {},
   "outputs": [
    {
     "data": {
      "text/plain": [
       "Text(0.5, 1.0, 'Permutation Importance with Standard Deviation')"
      ]
     },
     "execution_count": 315,
     "metadata": {},
     "output_type": "execute_result"
    },
    {
     "data": {
      "image/png": "[encoded data removed]",
      "text/plain": [
       "<Figure size 1000x600 with 1 Axes>"
      ]
     },
     "metadata": {},
     "output_type": "display_data"
    }
   ],
   "source": [
    "ax = feature_importance.plot(\n",
    "    x=\"Feature\",\n",
    "    y=\"Importance\",\n",
    "    kind=\"barh\",\n",
    "    figsize=(10, 6),\n",
    "    yerr=\"Standard Deviation\",\n",
    "    capsize=4,\n",
    ")\n",
    "ax.set_xlabel(\"Permutation Importance\")\n",
    "ax.set_title(\"Permutation Importance with Standard Deviation\")"
   ]
  },
  {
   "cell_type": "code",
   "execution_count": 316,
   "metadata": {},
   "outputs": [
    {
     "data": {
      "text/plain": [
       "['contact',\n",
       " 'euribor3m',\n",
       " 'nr.employed',\n",
       " 'pdays',\n",
       " 'cons.price.idx',\n",
       " 'emp.var.rate']"
      ]
     },
     "execution_count": 316,
     "metadata": {},
     "output_type": "execute_result"
    }
   ],
   "source": [
    "best_features = list(feature_importance.tail(6)[\"Feature\"])\n",
    "best_features"
   ]
  },
  {
   "cell_type": "markdown",
   "metadata": {},
   "source": [
    "#### Hyperparameter Estimation with Grid Search"
   ]
  },
  {
   "cell_type": "code",
   "execution_count": 318,
   "metadata": {},
   "outputs": [],
   "source": [
    "classifier_param_grids = {\n",
    "    \"KNeighborsClassifier\": {\n",
    "        \"classifier__n_neighbors\": range(1, 5),\n",
    "    },\n",
    "    \"DecisionTreeClassifier\": {\n",
    "        \"classifier__random_state\": [42],\n",
    "        \"classifier__max_depth\": range(1, 5),\n",
    "        \"classifier__class_weight\": [None, \"balanced\"],\n",
    "    },\n",
    "    \"LogisticRegression\": {\n",
    "        \"classifier__penalty\": [\"l1\", \"l2\"],\n",
    "        \"classifier__C\": np.logspace(start=-5, stop=5, num=11),\n",
    "    },\n",
    "    \"SVC\": {\n",
    "        \"classifier__max_iter\": [5000],\n",
    "        \"classifier__kernel\": [\"rbf\", \"poly\"],\n",
    "    },\n",
    "}"
   ]
  },
  {
   "cell_type": "code",
   "execution_count": 319,
   "metadata": {},
   "outputs": [],
   "source": [
    "from sklearn.model_selection import GridSearchCV\n",
    "\n",
    "def grid_search_fit_and_time(\n",
    "    classifier_name: str = \"\",\n",
    "    param_grid: dict = {},\n",
    "    scoring: str = \"\",\n",
    "    features: list = X_train.columns,\n",
    "):\n",
    "    classifier_pipeline = make_pipeline(classifier_name=classifier_name)\n",
    "\n",
    "    tic = time()\n",
    "    grid = GridSearchCV(\n",
    "        estimator=classifier_pipeline,\n",
    "        param_grid=param_grid,\n",
    "        scoring=scoring,\n",
    "        cv=5,\n",
    "    ).fit(X_train[features], y_train)\n",
    "    grid_search_time = time() - tic\n",
    "\n",
    "    tic = time()\n",
    "    train_scores = make_scores_dict(\n",
    "        grid.best_estimator_, \"Train\", X_train[features], y_train\n",
    "    )\n",
    "\n",
    "    test_scores = make_scores_dict(\n",
    "        grid.best_estimator_, \"Test\", X_test[features], y_test\n",
    "    )\n",
    "    score_time = time() - tic\n",
    "\n",
    "    return (\n",
    "        {\n",
    "            \"Model\": classifier_name,\n",
    "            \"Average Grid Search Time\": grid_search_time\n",
    "            / len(grid.cv_results_[\"params\"]),\n",
    "            \"Score Time\": score_time,\n",
    "        }\n",
    "        | train_scores\n",
    "        | test_scores\n",
    "        | {\n",
    "            \"Best Params\": grid.best_params_,\n",
    "            \"Best Estimator\": grid.best_estimator_,\n",
    "        }\n",
    "    )"
   ]
  },
  {
   "cell_type": "code",
   "execution_count": 320,
   "metadata": {},
   "outputs": [
    {
     "data": {
      "text/html": [
       "<div>\n",
       "<style scoped>\n",
       "    .dataframe tbody tr th:only-of-type {\n",
       "        vertical-align: middle;\n",
       "    }\n",
       "\n",
       "    .dataframe tbody tr th {\n",
       "        vertical-align: top;\n",
       "    }\n",
       "\n",
       "    .dataframe thead th {\n",
       "        text-align: right;\n",
       "    }\n",
       "</style>\n",
       "<table border=\"1\" class=\"dataframe\">\n",
       "  <thead>\n",
       "    <tr style=\"text-align: right;\">\n",
       "      <th></th>\n",
       "      <th>Model</th>\n",
       "      <th>Average Grid Search Time</th>\n",
       "      <th>Score Time</th>\n",
       "      <th>Train Accuracy</th>\n",
       "      <th>Train Balanced Accuracy</th>\n",
       "      <th>Train Precision</th>\n",
       "      <th>Train Recall</th>\n",
       "      <th>Train f1</th>\n",
       "      <th>Train ROC_AUC</th>\n",
       "      <th>Test Accuracy</th>\n",
       "      <th>Test Balanced Accuracy</th>\n",
       "      <th>Test Precision</th>\n",
       "      <th>Test Recall</th>\n",
       "      <th>Test f1</th>\n",
       "      <th>Test ROC_AUC</th>\n",
       "      <th>Best Params</th>\n",
       "      <th>Best Estimator</th>\n",
       "    </tr>\n",
       "  </thead>\n",
       "  <tbody>\n",
       "    <tr>\n",
       "      <th>0</th>\n",
       "      <td>KNeighborsClassifier</td>\n",
       "      <td>3.574966</td>\n",
       "      <td>5.111242</td>\n",
       "      <td>90.07</td>\n",
       "      <td>66.12</td>\n",
       "      <td>60.14</td>\n",
       "      <td>35.20</td>\n",
       "      <td>44.41</td>\n",
       "      <td>66.12</td>\n",
       "      <td>89.16</td>\n",
       "      <td>63.30</td>\n",
       "      <td>53.38</td>\n",
       "      <td>29.91</td>\n",
       "      <td>38.34</td>\n",
       "      <td>63.30</td>\n",
       "      <td>{'classifier__n_neighbors': 3}</td>\n",
       "      <td>(ColumnTransformer(remainder=StandardScaler(),...</td>\n",
       "    </tr>\n",
       "    <tr>\n",
       "      <th>1</th>\n",
       "      <td>DecisionTreeClassifier</td>\n",
       "      <td>0.303448</td>\n",
       "      <td>0.109194</td>\n",
       "      <td>83.16</td>\n",
       "      <td>73.33</td>\n",
       "      <td>35.52</td>\n",
       "      <td>60.63</td>\n",
       "      <td>44.79</td>\n",
       "      <td>73.33</td>\n",
       "      <td>83.60</td>\n",
       "      <td>74.39</td>\n",
       "      <td>36.63</td>\n",
       "      <td>62.50</td>\n",
       "      <td>46.19</td>\n",
       "      <td>74.39</td>\n",
       "      <td>{'classifier__class_weight': 'balanced', 'clas...</td>\n",
       "      <td>(ColumnTransformer(remainder=StandardScaler(),...</td>\n",
       "    </tr>\n",
       "    <tr>\n",
       "      <th>2</th>\n",
       "      <td>LogisticRegression</td>\n",
       "      <td>0.305797</td>\n",
       "      <td>0.112488</td>\n",
       "      <td>89.92</td>\n",
       "      <td>59.01</td>\n",
       "      <td>69.06</td>\n",
       "      <td>19.11</td>\n",
       "      <td>29.93</td>\n",
       "      <td>59.01</td>\n",
       "      <td>90.04</td>\n",
       "      <td>58.56</td>\n",
       "      <td>73.76</td>\n",
       "      <td>17.93</td>\n",
       "      <td>28.85</td>\n",
       "      <td>58.56</td>\n",
       "      <td>{'classifier__C': 0.001, 'classifier__penalty'...</td>\n",
       "      <td>(ColumnTransformer(remainder=StandardScaler(),...</td>\n",
       "    </tr>\n",
       "    <tr>\n",
       "      <th>3</th>\n",
       "      <td>SVC</td>\n",
       "      <td>57.104084</td>\n",
       "      <td>34.186945</td>\n",
       "      <td>89.92</td>\n",
       "      <td>59.01</td>\n",
       "      <td>69.06</td>\n",
       "      <td>19.11</td>\n",
       "      <td>29.93</td>\n",
       "      <td>59.01</td>\n",
       "      <td>90.04</td>\n",
       "      <td>58.56</td>\n",
       "      <td>73.76</td>\n",
       "      <td>17.93</td>\n",
       "      <td>28.85</td>\n",
       "      <td>58.56</td>\n",
       "      <td>{'classifier__kernel': 'rbf', 'classifier__max...</td>\n",
       "      <td>(ColumnTransformer(remainder=StandardScaler(),...</td>\n",
       "    </tr>\n",
       "  </tbody>\n",
       "</table>\n",
       "</div>"
      ],
      "text/plain": [
       "                    Model  Average Grid Search Time  Score Time  \\\n",
       "0    KNeighborsClassifier                  3.574966    5.111242   \n",
       "1  DecisionTreeClassifier                  0.303448    0.109194   \n",
       "2      LogisticRegression                  0.305797    0.112488   \n",
       "3                     SVC                 57.104084   34.186945   \n",
       "\n",
       "   Train Accuracy  Train Balanced Accuracy  Train Precision  Train Recall  \\\n",
       "0           90.07                    66.12            60.14         35.20   \n",
       "1           83.16                    73.33            35.52         60.63   \n",
       "2           89.92                    59.01            69.06         19.11   \n",
       "3           89.92                    59.01            69.06         19.11   \n",
       "\n",
       "   Train f1  Train ROC_AUC  Test Accuracy  Test Balanced Accuracy  \\\n",
       "0     44.41          66.12          89.16                   63.30   \n",
       "1     44.79          73.33          83.60                   74.39   \n",
       "2     29.93          59.01          90.04                   58.56   \n",
       "3     29.93          59.01          90.04                   58.56   \n",
       "\n",
       "   Test Precision  Test Recall  Test f1  Test ROC_AUC  \\\n",
       "0           53.38        29.91    38.34         63.30   \n",
       "1           36.63        62.50    46.19         74.39   \n",
       "2           73.76        17.93    28.85         58.56   \n",
       "3           73.76        17.93    28.85         58.56   \n",
       "\n",
       "                                         Best Params  \\\n",
       "0                     {'classifier__n_neighbors': 3}   \n",
       "1  {'classifier__class_weight': 'balanced', 'clas...   \n",
       "2  {'classifier__C': 0.001, 'classifier__penalty'...   \n",
       "3  {'classifier__kernel': 'rbf', 'classifier__max...   \n",
       "\n",
       "                                      Best Estimator  \n",
       "0  (ColumnTransformer(remainder=StandardScaler(),...  \n",
       "1  (ColumnTransformer(remainder=StandardScaler(),...  \n",
       "2  (ColumnTransformer(remainder=StandardScaler(),...  \n",
       "3  (ColumnTransformer(remainder=StandardScaler(),...  "
      ]
     },
     "execution_count": 320,
     "metadata": {},
     "output_type": "execute_result"
    }
   ],
   "source": [
    "results_gridded_df = pd.DataFrame(\n",
    "    [\n",
    "        grid_search_fit_and_time(\n",
    "            classifier_name=classifier_name,\n",
    "            param_grid=classifier_param_grids[classifier_name],\n",
    "            scoring=\"balanced_accuracy\",\n",
    "            features=best_features,\n",
    "        )\n",
    "        for classifier_name in classifier_param_grids.keys()\n",
    "    ]\n",
    ")\n",
    "\n",
    "results_gridded_df"
   ]
  },
  {
   "cell_type": "markdown",
   "metadata": {},
   "source": [
    "#### Adjust your performance metric\n",
    "As stated earlier, given the imbalance of classes in the original dataset, we are going to be using `Test ROC_AUC`\n",
    "as the measure for performance."
   ]
  },
  {
   "cell_type": "markdown",
   "metadata": {},
   "source": [
    "### Summary of findings"
   ]
  },
  {
   "cell_type": "markdown",
   "metadata": {},
   "source": [
    "#### Choice of Metric\n",
    "Given the imbalance of classes in the original dataset, we have used `Test ROC_AUC` as the performance metric to compare models."
   ]
  },
  {
   "cell_type": "markdown",
   "metadata": {},
   "source": [
    "#### Choice of Features\n",
    "\n",
    "Using logistic regression as the base foundational model, we used permutation importance to identify important features.\n",
    "\n",
    "* We reduced the feature space to 6.\n",
    "* This improves fit and preduction times while maintaining the performance when compared to using all the features."
   ]
  },
  {
   "cell_type": "markdown",
   "metadata": {},
   "source": [
    "#### Choice of Classifiers\n",
    "\n",
    "##### KNeighborsClassifier\n",
    "* This was the second least performant model.\n",
    "* The excess time to fit and score didn't result in a better accuracy compared to our baseline model.\n",
    "\n",
    "##### DecisionTreeClassifier\n",
    "* This model has better fit and score times comparable to LogisticRegression.\n",
    "* This model has the best score compared to all other models making it the **best overall choice**.\n",
    "\n",
    "##### LogisticRegression\n",
    "* This model has the best fit and score times compared to all other models.\n",
    "* Accuracy is lower compared to our baseline model.\n",
    "\n",
    "##### SVC\n",
    "* This took the longest time to fit and score.\n",
    "* Score is comparable to LogisticRegression, which is less than the baseline model.\n"
   ]
  }
 ],
 "metadata": {
  "kernelspec": {
   "display_name": "Python 3 (ipykernel)",
   "language": "python",
   "name": "python3"
  },
  "language_info": {
   "codemirror_mode": {
    "name": "ipython",
    "version": 3
   },
   "file_extension": ".py",
   "mimetype": "text/x-python",
   "name": "python",
   "nbconvert_exporter": "python",
   "pygments_lexer": "ipython3",
   "version": "3.11.5"
  },
  "widgets": {
   "application/vnd.jupyter.widget-state+json": {
    "state": {},
    "version_major": 2,
    "version_minor": 0
   }
  }
 },
 "nbformat": 4,
 "nbformat_minor": 4
}
